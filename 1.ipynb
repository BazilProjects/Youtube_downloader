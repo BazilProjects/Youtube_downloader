{
 "cells": [
  {
   "cell_type": "code",
   "execution_count": 2,
   "metadata": {},
   "outputs": [
    {
     "name": "stdout",
     "output_type": "stream",
     "text": [
      "Estimated distance: 15210.20 km\n"
     ]
    }
   ],
   "source": [
    "import requests\n",
    "from geopy.distance import geodesic\n",
    "\n",
    "def get_coords(ip):\n",
    "    response = requests.get(f\"http://ip-api.com/json/{ip}\")\n",
    "    data = response.json()\n",
    "    if data['status'] == 'success':\n",
    "        return (data['lat'], data['lon'])\n",
    "    else:\n",
    "        raise Exception(f\"IP lookup failed for {ip}: {data.get('message')}\")\n",
    "\n",
    "def distance_between_ips(ip1, ip2):\n",
    "    coords1 = get_coords(ip1)\n",
    "    coords2 = get_coords(ip2)\n",
    "    return geodesic(coords1, coords2).kilometers\n",
    "\n",
    "# Example usage\n",
    "ip_a = \"8.8.8.8\"       # Google DNS\n",
    "ip_b = \"1.1.1.1\"       # Cloudflare DNS\n",
    "km = distance_between_ips(ip_a, ip_b)\n",
    "print(f\"Estimated distance: {km:.2f} km\")\n"
   ]
  },
  {
   "cell_type": "code",
   "execution_count": null,
   "metadata": {},
   "outputs": [
    {
     "name": "stderr",
     "output_type": "stream",
     "text": [
      "usage: ipykernel_launcher.py [-h] --dataroot DATAROOT [--name NAME]\n",
      "                             [--gpu_ids GPU_IDS]\n",
      "                             [--checkpoints_dir CHECKPOINTS_DIR]\n",
      "                             [--model MODEL] [--input_nc INPUT_NC]\n",
      "                             [--output_nc OUTPUT_NC] [--ngf NGF] [--ndf NDF]\n",
      "                             [--netD NETD] [--netG NETG]\n",
      "                             [--n_layers_D N_LAYERS_D] [--norm NORM]\n",
      "                             [--init_type INIT_TYPE] [--init_gain INIT_GAIN]\n",
      "                             [--no_dropout] [--dataset_mode DATASET_MODE]\n",
      "                             [--direction DIRECTION] [--serial_batches]\n",
      "                             [--num_threads NUM_THREADS]\n",
      "                             [--batch_size BATCH_SIZE] [--load_size LOAD_SIZE]\n",
      "                             [--crop_size CROP_SIZE]\n",
      "                             [--max_dataset_size MAX_DATASET_SIZE]\n",
      "                             [--preprocess PREPROCESS] [--no_flip]\n",
      "                             [--display_winsize DISPLAY_WINSIZE]\n",
      "                             [--epoch EPOCH] [--load_iter LOAD_ITER]\n",
      "                             [--verbose] [--suffix SUFFIX] [--use_wandb]\n",
      "                             [--wandb_project_name WANDB_PROJECT_NAME]\n",
      "                             [--results_dir RESULTS_DIR]\n",
      "                             [--aspect_ratio ASPECT_RATIO] [--phase PHASE]\n",
      "                             [--eval] [--num_test NUM_TEST]\n",
      "ipykernel_launcher.py: error: the following arguments are required: --dataroot\n"
     ]
    },
    {
     "ename": "SystemExit",
     "evalue": "2",
     "output_type": "error",
     "traceback": [
      "An exception has occurred, use %tb to see the full traceback.\n",
      "\u001b[0;31mSystemExit\u001b[0m\u001b[0;31m:\u001b[0m 2\n"
     ]
    },
    {
     "name": "stderr",
     "output_type": "stream",
     "text": [
      "/home/omenyo/.local/lib/python3.11/site-packages/IPython/core/interactiveshell.py:3585: UserWarning: To exit: use 'exit', 'quit', or Ctrl-D.\n",
      "  warn(\"To exit: use 'exit', 'quit', or Ctrl-D.\", stacklevel=1)\n"
     ]
    }
   ],
   "source": []
  }
 ],
 "metadata": {
  "kernelspec": {
   "display_name": "Python 3",
   "language": "python",
   "name": "python3"
  },
  "language_info": {
   "codemirror_mode": {
    "name": "ipython",
    "version": 3
   },
   "file_extension": ".py",
   "mimetype": "text/x-python",
   "name": "python",
   "nbconvert_exporter": "python",
   "pygments_lexer": "ipython3",
   "version": "3.11.2"
  }
 },
 "nbformat": 4,
 "nbformat_minor": 2
}
